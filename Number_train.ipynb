{
 "cells": [
  {
   "cell_type": "markdown",
   "metadata": {},
   "source": [
    "## Downloading the dataset and Architecture of the model"
   ]
  },
  {
   "cell_type": "code",
   "execution_count": 13,
   "metadata": {},
   "outputs": [
    {
     "name": "stdout",
     "output_type": "stream",
     "text": [
      "Epoch 1/9\n",
      "60000/60000 [==============================] - 3s 49us/sample - loss: 0.2561 - acc: 0.9245\n",
      "Epoch 2/9\n",
      "60000/60000 [==============================] - 3s 46us/sample - loss: 0.1029 - acc: 0.9682\n",
      "Epoch 3/9\n",
      "60000/60000 [==============================] - 3s 46us/sample - loss: 0.0699 - acc: 0.9781\n",
      "Epoch 4/9\n",
      "60000/60000 [==============================] - 3s 46us/sample - loss: 0.0525 - acc: 0.9832\n",
      "Epoch 5/9\n",
      "60000/60000 [==============================] - 3s 46us/sample - loss: 0.0394 - acc: 0.9869\n",
      "Epoch 6/9\n",
      "60000/60000 [==============================] - 3s 46us/sample - loss: 0.0307 - acc: 0.9896\n",
      "Epoch 7/9\n",
      "60000/60000 [==============================] - 3s 48us/sample - loss: 0.0248 - acc: 0.9917\n",
      "Epoch 8/9\n",
      "60000/60000 [==============================] - 3s 49us/sample - loss: 0.0207 - acc: 0.9930\n",
      "Epoch 9/9\n",
      "60000/60000 [==============================] - 3s 49us/sample - loss: 0.0178 - acc: 0.9936\n"
     ]
    },
    {
     "data": {
      "text/plain": [
       "<tensorflow.python.keras.callbacks.History at 0x7f7b7ff36198>"
      ]
     },
     "execution_count": 13,
     "metadata": {},
     "output_type": "execute_result"
    }
   ],
   "source": [
    "import tensorflow as tf\n",
    "\n",
    "mnist = tf.keras.datasets.mnist\n",
    "(x_train, y_train),(x_test, y_test) = mnist.load_data()\n",
    "\n",
    "x_train = tf.keras.utils.normalize(x_train, axis=1)   #Normalizing the data\n",
    "x_test = tf.keras.utils.normalize(x_test, axis=1)\n",
    "\n",
    "#building the model starts here\n",
    "model = tf.keras.models.Sequential()         #feedforward model, no going backwards\n",
    "model.add(tf.keras.layers.Flatten())         #This is the first layer, we are also flattening the 28*28 model to 1*784 flat layer to feed in the model\n",
    "model.add(tf.keras.layers.Dense(128, activation=tf.nn.relu))     #2nd layer, dense, with 128 neurons in the layer with activation function relu(rectify linear)\n",
    "model.add(tf.keras.layers.Dense(128, activation=tf.nn.relu))     #3rd layer, same as 2nd layer\n",
    "model.add(tf.keras.layers.Dense(10, activation=tf.nn.softmax))   #4th and final layer with 10 outputs\n",
    "#model prepared\n",
    "\n",
    "#now, paremeters for the training of the model\n",
    "#This is where we pass the settings for actually optimizing/training the model we've defined.\n",
    "\n",
    "model.compile(optimizer='adam',\n",
    "              loss='sparse_categorical_crossentropy',\n",
    "              metrics=['accuracy'])\n",
    "model.fit(x_train, y_train, epochs=9)"
   ]
  },
  {
   "cell_type": "code",
   "execution_count": 14,
   "metadata": {},
   "outputs": [
    {
     "name": "stdout",
     "output_type": "stream",
     "text": [
      "10000/10000 [==============================] - 0s 31us/sample - loss: 0.1112 - acc: 0.9731\n",
      "0.11120051752389408\n",
      "0.9731\n"
     ]
    }
   ],
   "source": [
    "val_loss, val_acc = model.evaluate(x_test, y_test)\n",
    "print(val_loss)\n",
    "print(val_acc)"
   ]
  },
  {
   "cell_type": "code",
   "execution_count": 20,
   "metadata": {},
   "outputs": [
    {
     "data": {
      "image/png": "[encoded data removed]",
      "text/plain": [
       "<Figure size 432x288 with 1 Axes>"
      ]
     },
     "metadata": {
      "needs_background": "light"
     },
     "output_type": "display_data"
    },
    {
     "name": "stdout",
     "output_type": "stream",
     "text": [
      "7\n"
     ]
    }
   ],
   "source": [
    "import matplotlib.pyplot as plt\n",
    "\n",
    "plt.imshow(x_test[0])\n",
    "plt.show()\n",
    "\n",
    "print(y_test[0])\n"
   ]
  },
  {
   "cell_type": "code",
   "execution_count": 21,
   "metadata": {},
   "outputs": [],
   "source": [
    "model.save('epic_num_reader.model')   #saving the model"
   ]
  },
  {
   "cell_type": "code",
   "execution_count": 24,
   "metadata": {},
   "outputs": [
    {
     "name": "stderr",
     "output_type": "stream",
     "text": [
      "W0705 17:56:53.125527 140169918248768 hdf5_format.py:263] Sequential models without an `input_shape` passed to the first layer cannot reload their optimizer state. As a result, your model isstarting with a freshly initialized optimizer.\n"
     ]
    }
   ],
   "source": [
    "new_model = tf.keras.models.load_model('epic_num_reader.model')  #loading the model again in new_model"
   ]
  },
  {
   "cell_type": "code",
   "execution_count": 36,
   "metadata": {},
   "outputs": [],
   "source": [
    "predictions = new_model.predict(x_test)"
   ]
  },
  {
   "cell_type": "code",
   "execution_count": 38,
   "metadata": {},
   "outputs": [
    {
     "name": "stdout",
     "output_type": "stream",
     "text": [
      "[[6.28890860e-14 6.45177141e-12 5.20109511e-10 ... 1.00000000e+00\n",
      "  4.94470187e-14 7.49430309e-11]\n",
      " [4.68064259e-12 2.27033681e-07 9.99999762e-01 ... 5.62868632e-12\n",
      "  3.66116439e-14 2.58027908e-17]\n",
      " [2.42656546e-12 9.99272406e-01 7.45063971e-07 ... 1.76669826e-04\n",
      "  5.49857505e-04 2.06310510e-10]\n",
      " ...\n",
      " [1.24317131e-17 4.19261847e-10 2.69726309e-14 ... 1.23278276e-08\n",
      "  1.15192265e-10 5.94881122e-08]\n",
      " [2.46367672e-05 5.64869085e-09 4.25796724e-11 ... 4.64179857e-06\n",
      "  2.48190941e-06 1.58178470e-11]\n",
      " [1.01583932e-12 4.59068954e-14 2.26844867e-12 ... 2.93165832e-15\n",
      "  4.60665577e-13 5.92416876e-15]]\n"
     ]
    }
   ],
   "source": [
    "print(predictions)"
   ]
  },
  {
   "cell_type": "code",
   "execution_count": 39,
   "metadata": {},
   "outputs": [
    {
     "name": "stdout",
     "output_type": "stream",
     "text": [
      "3\n"
     ]
    }
   ],
   "source": [
    "import numpy as np\n",
    "\n",
    "print(np.argmax(predictions[51]))"
   ]
  },
  {
   "cell_type": "code",
   "execution_count": 40,
   "metadata": {},
   "outputs": [
    {
     "data": {
      "image/png": "[encoded data removed]",
      "text/plain": [
       "<Figure size 432x288 with 1 Axes>"
      ]
     },
     "metadata": {
      "needs_background": "light"
     },
     "output_type": "display_data"
    }
   ],
   "source": [
    "plt.imshow(x_test[51],cmap=plt.cm.binary)\n",
    "plt.show()"
   ]
  }
 ],
 "metadata": {
  "kernelspec": {
   "display_name": "Python 3",
   "language": "python",
   "name": "python3"
  },
  "language_info": {
   "codemirror_mode": {
    "name": "ipython",
    "version": 3
   },
   "file_extension": ".py",
   "mimetype": "text/x-python",
   "name": "python",
   "nbconvert_exporter": "python",
   "pygments_lexer": "ipython3",
   "version": "3.6.8"
  }
 },
 "nbformat": 4,
 "nbformat_minor": 2
}
